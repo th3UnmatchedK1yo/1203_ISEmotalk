


import pandas as pd
import numpy as np

import os
import sys

import librosa
import librosa.display
import seaborn as sns
import matplotlib.pyplot as plt

from sklearn.preprocessing import StandardScaler, OneHotEncoder
from sklearn.metrics import confusion_matrix, classification_report
from sklearn.model_selection import train_test_split

# to play the audio files
from IPython.display import Audio


import keras
import tensorflow
from keras.callbacks import ReduceLROnPlateau, ModelCheckpoint                        
from keras.models import Sequential
from keras.layers import Dense, Conv1D, MaxPooling1D, Flatten, Dropout, BatchNormalization
from keras.utils import to_categorical  





from pathlib import Path
from pydub import AudioSegment
from concurrent.futures import ThreadPoolExecutor
from pydub.utils import which

# Kiểm tra FFmpeg
if not which("ffmpeg"):
    raise EnvironmentError("FFmpeg không được tìm thấy. Hãy cài đặt FFmpeg và kiểm tra lại!")

# Hàm chuyển đổi một file từ .webm sang .wav
def convert_to_wav(file: Path, output_dir: Path) -> str:
    try:
        print(f"Đang xử lý file: {file.name}")
        # Kiểm tra file tồn tại
        if not file.exists():
            return f"File không tồn tại: {file.name}"
        
        # Đọc file .webm và chuyển đổi
        audio = AudioSegment.from_file(file, format="webm")
        output_file = output_dir / f"{file.stem}.wav"
        audio.export(output_file, format="wav")
        
        # Kiểm tra file đầu ra
        if output_file.exists():
            return f"Chuyển đổi thành công: {file.name} -> {output_file.name}"
        else:
            return f"Lỗi: Không thể tạo file đầu ra cho {file.name}"
    except Exception as e:
        return f"Lỗi khi xử lý file {file.name}: {e}"

def main():
    # Đường dẫn đến thư mục chứa file .webm
    input_dir = Path('Dataset/cleaned_webm')
    audio_files = list(input_dir.glob('*.webm'))

    if not audio_files:
        print("Không tìm thấy file .webm nào trong thư mục!")
        return
    
    # Thư mục đích để lưu file .wav
    output_dir = Path('Dataset/converted_wav')
    output_dir.mkdir(parents=True, exist_ok=True)

    # Sử dụng ThreadPoolExecutor để xử lý song song
    print("Bắt đầu chuyển đổi file...")
    with ThreadPoolExecutor() as executor:
        results = executor.map(convert_to_wav, audio_files, [output_dir] * len(audio_files))
    
    # Hiển thị kết quả
    for result in results:
        print(result)

if __name__ == "__main__":
    main()



audio_data


lable_file = pd.read_csv('Dataset/metadata.csv', delimiter='|')



lable_file


lable=lable_file[['audio_recording','emotion']]


lable


lable['audio_recording'] = lable['audio_recording'].apply(lambda x: x.split('/')[-1])


matched_labels = lable[lable['audio_recording'].isin(audio_data)]



matched_labels 


audio_df = pd.DataFrame(audio_data, columns=['audio_recording'])


merged_df = audio_df.merge(matched_labels , on='audio_recording', how='left')


merged_df


from IPython.display import Audio, display

# Đường dẫn đến file audio
file_path = 'recorded_audio.webm'

# Hiển thị trình phát âm thanh
display(Audio(file_path))

